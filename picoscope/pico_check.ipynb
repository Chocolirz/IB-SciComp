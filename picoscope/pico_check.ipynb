{
 "cells": [
  {
   "cell_type": "markdown",
   "metadata": {},
   "source": [
    "## pico_check.ipynb\n",
    "This is a notebook to read and process data from our Picoscope. "
   ]
  },
  {
   "cell_type": "code",
   "execution_count": 1,
   "metadata": {},
   "outputs": [],
   "source": [
    "import numpy as np\n",
    "import matplotlib.pyplot as plt\n",
    "import pandas as pd\n",
    "from pico_readout import PicoReadout"
   ]
  },
  {
   "cell_type": "code",
   "execution_count": 2,
   "metadata": {},
   "outputs": [],
   "source": [
    "np.set_printoptions(suppress=True) # to make tiny values appear as zero\n",
    "np.set_printoptions(precision=4)   # number of digits in floats (or longfloats)\n",
    "#np.set_printoptions(formatter={'float_kind':\"{:.2f}\"})\n",
    "#np.set_printoptions()\n",
    "\n",
    "%matplotlib inline\n",
    "\n",
    "# Set formats\n",
    "DARK=False\n",
    "if(DARK==False):\n",
    "    form='.k'\n",
    "    plt.style.use(['default']) \n",
    "    fontcolor='k'\n",
    "else:\n",
    "    form='.w'\n",
    "    plt.style.use(['dark_background'])\n",
    "    fontcolor='w'\n",
    "\n",
    "\n",
    "SMALL_SIZE = 18\n",
    "MEDIUM_SIZE = 20\n",
    "BIGGER_SIZE = 22\n",
    "\n",
    "plt.rc('font', size=MEDIUM_SIZE)          # controls default text sizes\n",
    "plt.rc('axes', titlesize=MEDIUM_SIZE)     # fontsize of the axes title\n",
    "plt.rc('axes', labelsize=BIGGER_SIZE)    # fontsize of the x and y labels\n",
    "plt.rc('xtick', labelsize=SMALL_SIZE)    # fontsize of the tick labels\n",
    "plt.rc('ytick', labelsize=SMALL_SIZE)    # fontsize of the tick labels\n",
    "plt.rc('legend', fontsize=SMALL_SIZE)    # legend fontsize\n",
    "plt.rc('figure', titlesize=BIGGER_SIZE)  # fontsize of the figure title\n",
    "\n",
    "params = {\n",
    "    'font.family': 'serif',\n",
    "    'font.size' : 14, 'axes.titlesize' : 14, 'axes.labelsize' : 14, 'axes.linewidth' : 1,\n",
    "    # ticks\n",
    "    'xtick.labelsize' : 14, 'ytick.labelsize' : 14, 'xtick.major.size' : 8, 'xtick.minor.size' : 4,\n",
    "    'ytick.major.size' : 8, 'ytick.minor.size' : 4, 'xtick.major.width' : 1, 'xtick.minor.width' : 1,\n",
    "    'ytick.major.width' : 1, 'ytick.minor.width' : 1, 'xtick.direction' : 'in', 'ytick.direction' : 'in',\n",
    "    # markers\n",
    "    'lines.markersize' : 4, 'lines.markeredgewidth' : 1, 'errorbar.capsize' : 5, 'lines.linewidth' : 1.5,\n",
    "    #'lines.linestyle' : None, 'lines.marker' : None,\n",
    "    'savefig.bbox' : 'tight', 'legend.fontsize' : 14,\n",
    "    'axes.labelsize': 14, 'axes.titlesize':16, 'xtick.labelsize':14, 'ytick.labelsize':14,\n",
    "    'backend': 'Agg', 'mathtext.fontset': 'dejavuserif',\n",
    "    'figure.facecolor':'w',\n",
    "    #pad\n",
    "    'axes.labelpad':8,\n",
    "    # ticks\n",
    "    'xtick.major.pad': 7,   'xtick.minor.pad': 7,   \n",
    "    'ytick.major.pad': 4, 'ytick.minor.pad': 4,\n",
    "}\n",
    "plt.rcParams.update(params)"
   ]
  },
  {
   "cell_type": "markdown",
   "metadata": {},
   "source": [
    "### Picoscope setup"
   ]
  },
  {
   "cell_type": "code",
   "execution_count": 3,
   "metadata": {},
   "outputs": [],
   "source": [
    "### available values are 'DC' and 'AC'\n",
    "ADecouple = 'AC'\n",
    "BDecouple = 'AC'\n",
    "\n",
    "### available values are 20, 10, 5, 2, 1, 0.5, 0.2, 0.1, 0.05, and 0.02, in Volts\n",
    "ARange = 5\n",
    "BRange = 5\n",
    "\n",
    "### in seconds\n",
    "min_collection_time = 20e-3 "
   ]
  },
  {
   "cell_type": "markdown",
   "metadata": {},
   "source": [
    "### Collect data from Picoscope"
   ]
  },
  {
   "cell_type": "code",
   "execution_count": null,
   "metadata": {},
   "outputs": [],
   "source": [
    "data = PicoReadout(ADecouple, BDecouple, ARange, BRange, min_collection_time)\n",
    "print(data)"
   ]
  },
  {
   "cell_type": "code",
   "execution_count": null,
   "metadata": {},
   "outputs": [],
   "source": [
    "times, voltages, overflow_warnings = data.run(data.ADecouple, data.BDecouple, data.ARange, data.BRange, data.min_collection_time)"
   ]
  },
  {
   "cell_type": "markdown",
   "metadata": {},
   "source": [
    "### Waveform"
   ]
  },
  {
   "cell_type": "code",
   "execution_count": null,
   "metadata": {},
   "outputs": [],
   "source": [
    "t = times[::1000]\n",
    "v_a = voltages[\"A\"][::1000]\n",
    "v_b = voltages[\"B\"][::1000]"
   ]
  },
  {
   "cell_type": "code",
   "execution_count": null,
   "metadata": {},
   "outputs": [],
   "source": [
    "plt.figure(figsize=(10, 6))\n",
    "plt.title('PicoScope Waveform')\n",
    "plt.plot(t, v_a, color='blue', label='Channel A')\n",
    "plt.plot(t, v_b, color='red', label='Channel B')\n",
    "plt.xlabel('Time [s]')\n",
    "plt.ylabel('Voltage [V]')\n",
    "plt.legend()\n",
    "plt.show()"
   ]
  },
  {
   "cell_type": "markdown",
   "metadata": {},
   "source": [
    "### Generating dataframe"
   ]
  },
  {
   "cell_type": "code",
   "execution_count": null,
   "metadata": {},
   "outputs": [],
   "source": [
    "### create dataframes for A and B channel data\n",
    "### time in seconds, A and B channel data in volts\n",
    "df = pd.DataFrame({\"time\": t, \"A\": v_a, \"B\": v_b})\n",
    "\n",
    "### run if you want to save the data to a csv file\n",
    "# df.to_csv('my_data.csv')"
   ]
  },
  {
   "cell_type": "code",
   "execution_count": null,
   "metadata": {},
   "outputs": [],
   "source": [
    "### check the dataframe\n",
    "df"
   ]
  }
 ],
 "metadata": {
  "kernelspec": {
   "display_name": "base",
   "language": "python",
   "name": "python3"
  },
  "language_info": {
   "codemirror_mode": {
    "name": "ipython",
    "version": 3
   },
   "file_extension": ".py",
   "mimetype": "text/x-python",
   "name": "python",
   "nbconvert_exporter": "python",
   "pygments_lexer": "ipython3",
   "version": "3.11.4"
  }
 },
 "nbformat": 4,
 "nbformat_minor": 2
}
