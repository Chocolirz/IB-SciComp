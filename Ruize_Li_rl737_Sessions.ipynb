{
 "cells": [
  {
   "cell_type": "markdown",
   "metadata": {},
   "source": [
    "## Part IB Computing Sessions\n",
    "\n",
    "Ruize Li, rl737@cam.ac.uk\n",
    "\n",
    "Jesus College Cambridge"
   ]
  },
  {
   "cell_type": "markdown",
   "metadata": {},
   "source": [
    "### Session 1"
   ]
  },
  {
   "cell_type": "code",
   "execution_count": 1,
   "metadata": {},
   "outputs": [
    {
     "name": "stdout",
     "output_type": "stream",
     "text": [
      "The sum of 1.0 and 1.0 is 2.0\n",
      "Thank you for using the program. See you next time!\n"
     ]
    }
   ],
   "source": [
    "# Session 1\n",
    "# Ruize Li, rl737\n",
    "# Jesus College Cambridge\n",
    "\n",
    "# SimpleAdder_plus_PolynomialSolver.py consists of two parts:\n",
    "# 1. A simple adder program in Python;\n",
    "# 2. A program to find the zeros of a polynomial function in Python.\n",
    "\n",
    "# Choose one task:\n",
    "c = input(\"Which one do you want to do? (1/2) \\n 1. Simple Adder \\n 2. Find Zeros of Polynomial Function\")\n",
    "if c == \"1\":\n",
    "    # continue with the simple adder program\n",
    "    # The first part is the code for a simple adder program in Python.\n",
    "    # There is no library or module needed for this program.\n",
    "    # Here is the function for a simple adder:\n",
    "    def add(a, b):\n",
    "        return a + b\n",
    "\n",
    "    # Input the first number to add:\n",
    "    a = input(\"This is a simple adder that can add two NUMBERS. \\n Enter the first number: \")\n",
    "\n",
    "    # Try to convert the input to a float:\n",
    "    try: \n",
    "        a = float(a)\n",
    "    except ValueError:\n",
    "        # Notifying the user and exiting the program:\n",
    "        raise ValueError(\"Input is not a number\")\n",
    "\n",
    "    # Input the second number to add:\n",
    "    b = input(\"Enter the second number: \")\n",
    "\n",
    "    # Checking if the input is a number:\n",
    "    try:\n",
    "        b = float(b)\n",
    "    except ValueError:\n",
    "        # Notifying the user and exiting the program:\n",
    "        raise ValueError(\"Input is not a number\")\n",
    "\n",
    "    # adding the two numbers:\n",
    "    total = add(float(a), float(b))\n",
    "\n",
    "    # printing the result:\n",
    "    print(\"The sum of\", a, \"and\", b, \"is\", total)\n",
    "elif c == \"2\":\n",
    "    # continue with the program to find the zeros of a polynomial function\n",
    "    # The second part of the program is to find the zeros of a polynomial function in Python.\n",
    "    # Choose to continue or exit the program:\n",
    "    confirm = input(\"This program finds the zeros of a polynomial function. \\n Do you want to continue? (y/n) \")\n",
    "    if confirm.lower() != \"y\":\n",
    "        print(\"Exiting the program...\")\n",
    "        raise SystemExit(\"You have chosen to exit the program.\")\n",
    "    else:\n",
    "        # continue with the program\n",
    "        pass\n",
    "\n",
    "    # Importing the necessary libraries:\n",
    "    import numpy as np\n",
    "\n",
    "    # Determining the degree of the polynomial function:\n",
    "    degree = input(\"Enter the degree (order) of the polynomial function: \")\n",
    "\n",
    "    # Checking if the input is a number:\n",
    "    try:\n",
    "        degree = int(degree)\n",
    "    except ValueError:\n",
    "        # Notifying the user and exiting the program:\n",
    "        raise ValueError(\"Input is not a number\")\n",
    "\n",
    "    # Inputting the coefficients of the polynomial function:\n",
    "    coefficients = []\n",
    "    for i in range(degree+1):\n",
    "        coefficient = input(\"Enter the coefficient of x^{}: \".format(degree-i))\n",
    "        # Checking if the input is a number:\n",
    "        try:\n",
    "            coefficient = float(coefficient)\n",
    "        except ValueError:\n",
    "        # Notifying the user and exiting the program:\n",
    "            raise ValueError(\"Input is not a number\")\n",
    "        # Adding the coefficient to the list of coefficients:\n",
    "        coefficients.append(coefficient)\n",
    "\n",
    "    # Defining a function to find the zeros of a polynomial function:\n",
    "    def find_polynomial_zeros(coefficients):\n",
    "        roots = np.roots(coefficients)\n",
    "        return roots\n",
    "\n",
    "    # Finding the zeros of the polynomial function:\n",
    "    zeros = find_polynomial_zeros(coefficients)\n",
    "\n",
    "    # Checking if the zeros are real:\n",
    "    roots = []\n",
    "    for i in range(0,len(zeros)):\n",
    "        # Choosing 1e-5 as the threshold for imaginary part:\n",
    "        if abs(zeros[i].imag) < 1e-5:\n",
    "            roots.append(str(round(zeros[i].real,4)))\n",
    "        else:\n",
    "            roots.append(str(round(zeros[i].real,4))+\" + \"+str(round(zeros[i].imag,4))+\"i\")\n",
    "\n",
    "    # Printing the polynomial function:\n",
    "    print(\"The polynomial function is: \")\n",
    "    print(str(coefficients[0]) + \" x^\" + str(int(degree)) + \" + \" \n",
    "        + \" + \".join([str(coefficients[i]) + \" x^\" + str(int(degree-i)) for i in range(1,degree+1)]))\n",
    "\n",
    "    # Print the zeros of the polynomial:\n",
    "    print(\"The zeros of the polynomial are:\")\n",
    "    print(\", \".join(roots[i] for i in range(len(roots))))\n",
    "else:\n",
    "    print(\"Invalid input. Exiting the program...\")\n",
    "    raise SystemExit(\"You have exited the program.\")\n",
    "\n",
    "# End of the program.\n",
    "print(\"Thank you for using the program. See you next time!\")"
   ]
  },
  {
   "cell_type": "markdown",
   "metadata": {},
   "source": [
    "### Session 2"
   ]
  },
  {
   "cell_type": "code",
   "execution_count": null,
   "metadata": {},
   "outputs": [],
   "source": []
  }
 ],
 "metadata": {
  "kernelspec": {
   "display_name": "base",
   "language": "python",
   "name": "python3"
  },
  "language_info": {
   "codemirror_mode": {
    "name": "ipython",
    "version": 3
   },
   "file_extension": ".py",
   "mimetype": "text/x-python",
   "name": "python",
   "nbconvert_exporter": "python",
   "pygments_lexer": "ipython3",
   "version": "3.11.4"
  }
 },
 "nbformat": 4,
 "nbformat_minor": 2
}
